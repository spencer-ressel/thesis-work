{
 "cells": [
  {
   "cell_type": "code",
   "execution_count": 2,
   "id": "c07005e5-4e1a-453a-9bc0-918d69639c45",
   "metadata": {
    "execution": {
     "iopub.execute_input": "2025-05-28T21:57:53.866659Z",
     "iopub.status.busy": "2025-05-28T21:57:53.866328Z",
     "iopub.status.idle": "2025-05-28T23:14:30.943015Z",
     "shell.execute_reply": "2025-05-28T23:14:30.942439Z",
     "shell.execute_reply.started": "2025-05-28T21:57:53.866644Z"
    }
   },
   "outputs": [
    {
     "name": "stdout",
     "output_type": "stream",
     "text": [
      "Experiment: 0K\n",
      "Loading data...                        ✔\n",
      "Saving data...                         \n",
      "(1/1) FLUT...                          ✔ (overwritten)\n",
      "----------------------------------------\n",
      "========================================\n",
      "Finished\n"
     ]
    }
   ],
   "source": [
    "str_width = 40\n",
    "import glob as glob\n",
    "import xarray as xr\n",
    "import cftime\n",
    "import os\n",
    "\n",
    "from functools import partial\n",
    "def _preprocess(x, lat_bnds):\n",
    "    return x.sel(lat=slice(*lat_bnds))\n",
    "\n",
    "START_TIME = cftime.DatetimeNoLeap(3, 1, 4, 0, 0, 0, 0, has_year_zero=True)\n",
    "END_TIME = cftime.DatetimeNoLeap(13, 1, 3, 0, 0, 0, 0, has_year_zero=True)\n",
    "time_bounds = (START_TIME, END_TIME)\n",
    "lat_bnds = (-40, 40)\n",
    "partial_func = partial(_preprocess, lat_bnds=lat_bnds)\n",
    "\n",
    "time_bounds = (START_TIME, END_TIME)\n",
    "\n",
    "input_directory = \"/glade/campaign/univ/uwas0114\"\n",
    "output_directory = \"/glade/campaign/univ/uwas0152/post_processed_data\"\n",
    "\n",
    "variables_to_load = ['FLUT']\n",
    "\n",
    "for experiment in ['0K']:\n",
    "\n",
    "    print(f\"Experiment: {experiment}\")\n",
    "    if experiment == '-4K':\n",
    "        data_location = \"SST_AQP3_Qobs_27_-4K_3h_10y\"\n",
    "    elif experiment == '0K':\n",
    "        data_location = \"SST_AQP3_Qobs_27_3h_20y\"\n",
    "    elif experiment == '4K':\n",
    "        data_location = \"SST_AQP3_Qobs_27_4K_3h_10y\"\n",
    "\n",
    "    data_files = sorted(glob.glob(f\"{input_directory}/{data_location}/atm/hist/*h1*.nc\"))\n",
    "\n",
    "    variables_to_drop = [var for var in xr.open_dataset(data_files[0]).data_vars]\n",
    "    for variable in variables_to_load:\n",
    "        variables_to_drop.remove(variable)\n",
    "\n",
    "    print(f\"{f'Loading data...':<{str_width-1}}\", end=\"\")\n",
    "    data = xr.open_mfdataset(\n",
    "        data_files,\n",
    "        drop_variables=variables_to_drop,\n",
    "        preprocess=partial_func\n",
    "    ).sel(time=slice(*time_bounds)).resample(time='1D').mean()\n",
    "    print(rf\"{'✔':>1}\")\n",
    "\n",
    "    print(f\"{f'Saving data...':<{str_width-1}}\")\n",
    "    for index, (variable_name, variable_data) in enumerate(data.data_vars.items()):\n",
    "        print(f\"{f'({index+1}/{len(data.data_vars.items())}) {variable_name}...':<{str_width-1}}\", end=\"\")\n",
    "        filename = f\"{output_directory}/{experiment}/daily_model-level_data/SST_AQP3_Qobs_27_{experiment}_1D_{variable_name}.nc\"\n",
    "        if os.path.exists(filename):\n",
    "            os.remove(filename)  # Delete the existing file\n",
    "            variable_data.to_netcdf(filename)\n",
    "            print(rf\"{'✔ (overwritten)':>1}\")\n",
    "        else:\n",
    "            variable_data.to_netcdf(filename)\n",
    "            print(rf\"{'✔':>1}\")\n",
    "\n",
    "    print(f\"{'-'*str_width}\")\n",
    "\n",
    "print(f\"{'='*str_width}\")\n",
    "print(\"Finished\")"
   ]
  },
  {
   "cell_type": "code",
   "execution_count": null,
   "id": "e6ecee92-c6f7-46be-bdf6-80d0b03614d5",
   "metadata": {},
   "outputs": [],
   "source": []
  }
 ],
 "metadata": {
  "kernelspec": {
   "display_name": "NPL 2024b",
   "language": "python",
   "name": "npl-2024b"
  },
  "language_info": {
   "codemirror_mode": {
    "name": "ipython",
    "version": 3
   },
   "file_extension": ".py",
   "mimetype": "text/x-python",
   "name": "python",
   "nbconvert_exporter": "python",
   "pygments_lexer": "ipython3",
   "version": "3.11.9"
  }
 },
 "nbformat": 4,
 "nbformat_minor": 5
}
