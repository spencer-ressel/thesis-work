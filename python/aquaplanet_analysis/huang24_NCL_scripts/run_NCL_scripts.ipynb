{
 "cells": [
  {
   "cell_type": "code",
   "execution_count": 1,
   "id": "669bdcdc-fc15-4944-b9f0-9b9d61e4df52",
   "metadata": {
    "execution": {
     "iopub.execute_input": "2025-04-11T18:05:48.156235Z",
     "iopub.status.busy": "2025-04-11T18:05:48.156060Z",
     "iopub.status.idle": "2025-04-11T20:49:00.226511Z",
     "shell.execute_reply": "2025-04-11T20:49:00.226235Z",
     "shell.execute_reply.started": "2025-04-11T18:05:48.156221Z"
    }
   },
   "outputs": [
    {
     "name": "stdout",
     "output_type": "stream",
     "text": [
      "Experiment: 4K\n",
      " Copyright (C) 1995-2019 - All Rights Reserved\n",
      " University Corporation for Atmospheric Research\n",
      " NCAR Command Language Version 6.6.2\n",
      " The use of this software is governed by a License Agreement.\n",
      " See http://www.ncl.ucar.edu/ for more details.\n",
      "(0)\tBudget Term Regressions                       |  2025-04-11 12:05:49 MDT\n",
      "(0)\tLoading data...                               |  2025-04-11 12:05:49 MDT\n",
      "(0)\t4K; /glade/campaign/univ/uwas0114/SST_AQP3_Qobs_27_4K_3h_10y/atm/hist/\n",
      "(0)\tDefining MJO index...                         |  2025-04-11 14:48:59 MDT\n",
      "(0)\tRegressing data...                            |  2025-04-11 14:48:59 MDT\n",
      "(0)\tSaving outputs...                             |  2025-04-11 14:48:59 MDT\n",
      "(0)\tFinished                                      |  2025-04-11 14:49:00 MDT\n",
      "----------------------------------------\n",
      "Finished\n"
     ]
    }
   ],
   "source": [
    "import os\n",
    "os.chdir(r\"/glade/u/home/sressel/aquaplanet_analysis/huang24_NCL_scripts\")\n",
    "for exp in [\"4K\"]:\n",
    "    print(f\"Experiment: {exp}\")\n",
    "    # os.system(f'module load ncl; ncl \\'experiment_SST=\"{exp}\"\\' ressel_a1_MSE.ncl')\n",
    "    # os.system(f'module load ncl; ncl \\'experiment_SST=\"{exp}\"\\' ressel_a2_MSE_tendency.ncl')\n",
    "    # os.system(f'module load ncl; ncl \\'experiment_SST=\"{exp}\"\\' ressel_a3_regr_MSE.ncl')\n",
    "    # os.system(f'module load ncl; ncl \\'experiment_SST=\"{exp}\"\\' ressel_b1_hadv_MSEB.ncl')\n",
    "    # os.system(f'module load ncl; ncl \\'experiment_SST=\"{exp}\"\\' ressel_b2_regr_MSEB.ncl')\n",
    "    print(f\"{'-'*40}\")\n",
    "\n",
    "print(\"Finished\")"
   ]
  },
  {
   "cell_type": "code",
   "execution_count": null,
   "id": "dd049c53-be28-4862-8b25-dfe278118ca9",
   "metadata": {},
   "outputs": [],
   "source": []
  }
 ],
 "metadata": {
  "kernelspec": {
   "display_name": "NPL 2025a",
   "language": "python",
   "name": "npl-2025a"
  },
  "language_info": {
   "codemirror_mode": {
    "name": "ipython",
    "version": 3
   },
   "file_extension": ".py",
   "mimetype": "text/x-python",
   "name": "python",
   "nbconvert_exporter": "python",
   "pygments_lexer": "ipython3",
   "version": "3.12.8"
  }
 },
 "nbformat": 4,
 "nbformat_minor": 5
}
