{
 "cells": [
  {
   "cell_type": "markdown",
   "id": "724fb1e7-6776-47c3-9b4e-33c0b8a0b9db",
   "metadata": {},
   "source": [
    "# Documentation"
   ]
  },
  {
   "cell_type": "markdown",
   "id": "fae82a68-2d43-42a8-b51b-3ab99bdd2cd9",
   "metadata": {},
   "source": [
    "**MJO CMIP6 Data Analysis** \n",
    "\n",
    "**Spencer Ressel**\n",
    "\n",
    "November 30th, 2023\n",
    "\n",
    "---\n",
    "\n",
    "This notebook is just a test-bed for me to look at MJO behavior in various CMIP models"
   ]
  },
  {
   "cell_type": "markdown",
   "id": "250927c0-3779-4e85-b475-454d9e829282",
   "metadata": {},
   "source": [
    "# Imports"
   ]
  },
  {
   "cell_type": "code",
   "execution_count": 79,
   "id": "357907de-e7f0-4f33-9393-e4e21c786083",
   "metadata": {},
   "outputs": [],
   "source": [
    "import xarray as xr\n",
    "import matplotlib.pyplot as plt\n",
    "import numpy as np\n",
    "import os\n",
    "from glob import glob"
   ]
  },
  {
   "cell_type": "markdown",
   "id": "e1ac4c0b-380a-43ea-8899-973378679425",
   "metadata": {},
   "source": [
    "# Load data"
   ]
  },
  {
   "cell_type": "code",
   "execution_count": 108,
   "id": "ee525576-5b53-4dd5-b203-146410588c4b",
   "metadata": {},
   "outputs": [
    {
     "name": "stdout",
     "output_type": "stream",
     "text": [
      "['ACCESS-CM2']\n",
      "['ACCESS-ESM1-5']\n",
      "['BCC-CSM2-MR']\n",
      "['CanESM5']\n",
      "['CNRM-CM6-1']\n",
      "['HadGEM3-GC31-LL']\n",
      "['IPSL-CM6A-LR']\n",
      "['MIROC6']\n",
      "['MRI-ESM2-0']\n",
      "['NorESM2-LM']\n"
     ]
    }
   ],
   "source": [
    "models_list = [\n",
    "    'ACCESS-CM2',\n",
    "    'ACCESS-ESM1-5', \n",
    "    'BCC-CSM2-MR',\n",
    "    'CanESM5', \n",
    "    'CNRM-CM6-1', \n",
    "    'HadGEM3-GC31-LL', \n",
    "    'IPSL-CM6A-LR', \n",
    "    'MIROC6', \n",
    "    'MRI-ESM2-0',\n",
    "    'NorESM2-LM'\n",
    "]\n",
    "model_DataArrays = []\n",
    "for model_index, model in enumerate(models_list):\n",
    "################### historical ###################\n",
    "    # # Load the historical data\n",
    "    # os.chdir('/home/disk/tc/pangulo/CMIP6/' + model)\n",
    "\n",
    "    os.chdir(f\"/home/disk/eos7/sressel/research/thesis-work/python/MJO_CMIP_data\")\n",
    "    # Load the data\n",
    "    file_name = sorted(glob(f\"./rlut_*_{model}*.nc\"))[0]\n",
    "    [\n",
    "        variable, \n",
    "        frequency, \n",
    "        model_name, \n",
    "        experiment, \n",
    "        variant, \n",
    "        grid, \n",
    "        period,\n",
    "        _,\n",
    "    ] = file_name.split('/')[-1].split('.nc')[0].split('_')\n",
    "\n",
    "    olr_data = xr.load_dataarray(file_name)\n",
    "    model_DataArrays.append(olr_data.convert_calendar('standard', align_on='year'))\n",
    "\n",
    "modified_DataArrays = []\n",
    "\n",
    "for model, DataArray in enumerate(model_DataArrays):\n",
    "    print([models_list[model]])\n",
    "    DataArray = DataArray.expand_dims(model=[models_list[model]])\n",
    "    modified_DataArrays.append(DataArray)\n",
    "    "
   ]
  },
  {
   "cell_type": "code",
   "execution_count": null,
   "id": "4bda48f2-22a6-49af-aab2-3ab982545543",
   "metadata": {},
   "outputs": [],
   "source": [
    "test = xr.concat(modified_DataArrays, dim='model') "
   ]
  },
  {
   "cell_type": "code",
   "execution_count": null,
   "id": "890cfb2b-0386-45fa-be06-9d1a986d0ce4",
   "metadata": {},
   "outputs": [],
   "source": []
  }
 ],
 "metadata": {
  "kernelspec": {
   "display_name": "Python 3 (ipykernel)",
   "language": "python",
   "name": "python3"
  },
  "language_info": {
   "codemirror_mode": {
    "name": "ipython",
    "version": 3
   },
   "file_extension": ".py",
   "mimetype": "text/x-python",
   "name": "python",
   "nbconvert_exporter": "python",
   "pygments_lexer": "ipython3",
   "version": "3.9.2"
  }
 },
 "nbformat": 4,
 "nbformat_minor": 5
}
