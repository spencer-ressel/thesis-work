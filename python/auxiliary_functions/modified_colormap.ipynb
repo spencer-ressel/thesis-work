{
 "cells": [
  {
   "cell_type": "code",
   "execution_count": 1,
   "id": "be9422a3-3d6e-4e97-9acc-4b6f0b4df531",
   "metadata": {
    "tags": []
   },
   "outputs": [],
   "source": [
    "def modified_colormap(colormap, central_color, central_width, blend_strength):    \n",
    "    '''\n",
    "    This function modifies a colormap to set the central region to be white. \n",
    "    Within the region specified by the 'width' parameter, the colormap is blended towards white using a linspace.\n",
    "    \n",
    "    Parameters:\n",
    "        colormap (str): The name of an existing matplotlib colormap\n",
    "        central_color (str): The name of an existing matplotlib color\n",
    "        central_width (float): The width of the region to be set to white\n",
    "        blend_strength (float): The width of the regions to be blended to white\n",
    "\n",
    "    Returns:\n",
    "        modified_colormap (matplotlib.colors.LinearSegmentedColormap): The modified colormap\n",
    "    \n",
    "    '''\n",
    "    # Import libraries\n",
    "    import numpy as np\n",
    "    import matplotlib.pyplot as plt\n",
    "    from matplotlib import colors as mcolors\n",
    "    \n",
    "    try:\n",
    "        c = mcolors.cnames[central_color]\n",
    "    except: \n",
    "        raise KeyError('Not a matplotlib named color')\n",
    "        \n",
    "    central_color = list(mcolors.to_rgba(central_color))\n",
    "    \n",
    "    # Raise an error if the width is not between 0 and 1\n",
    "    if ((central_width < 0)+(central_width > 1)):\n",
    "        raise ValueError('Central width must be in range [0, 1]')\n",
    "    elif ((blend_strength < 0) + (blend_strength > 1)):\n",
    "        raise ValueError('Blend strength must be in range [0, 1]')\n",
    "    \n",
    "    # Convert the widths to the range [0, 127]\n",
    "    else:             \n",
    "        central_width = int(127*central_width)\n",
    "        blend_strength = int(blend_strength*(127-central_width))\n",
    "\n",
    "    # Get the colormap values\n",
    "    original_colormap = plt.cm.get_cmap(colormap)\n",
    "    newcolors = original_colormap(np.linspace(0, 1, 256))\n",
    "    \n",
    "    # Get the value of the colormap 'width' values left of the center, and blend from that value to white at the center\n",
    "    newcolors[128-central_width-blend_strength:128-central_width, :] = np.linspace(\n",
    "        newcolors[128-central_width-blend_strength, :], \n",
    "        central_color, \n",
    "        blend_strength\n",
    "    )\n",
    "    \n",
    "    newcolors[128-central_width:128+central_width, :] = central_color\n",
    "    \n",
    "    # Get the value of the colormap 'width' values right of the center, and blend from white at the center to that value\n",
    "    newcolors[128+central_width:128+central_width+blend_strength, :] = np.linspace(\n",
    "        central_color,\n",
    "        newcolors[128+central_width+blend_strength, :], \n",
    "        blend_strength\n",
    "    )\n",
    "    \n",
    "    # Create a new colormap object from the modified map\n",
    "    modified_colormap = mcolors.LinearSegmentedColormap.from_list(colormap+'_modified', newcolors)\n",
    "    \n",
    "    return modified_colormap"
   ]
  },
  {
   "cell_type": "code",
   "execution_count": 8,
   "id": "a9abc2aa-de27-4514-850d-62dcaa4555d3",
   "metadata": {
    "tags": []
   },
   "outputs": [
    {
     "data": {
      "image/png": "[encoded data removed]",
      "text/html": [
       "<div style=\"vertical-align: middle;\"><strong>coolwarm_modified</strong> </div><div class=\"cmap\"><img alt=\"coolwarm_modified colormap\" title=\"coolwarm_modified\" style=\"border: 1px solid #555;\" src=\"data:image/png;base64,iVBORw0KGgoAAAANSUhEUgAAAgAAAABACAYAAABsv8+/AAAAIHRFWHRUaXRsZQBjb29sd2FybV9tb2RpZmllZCBjb2xvcm1hcEtaa8EAAAAmdEVYdERlc2NyaXB0aW9uAGNvb2x3YXJtX21vZGlmaWVkIGNvbG9ybWFwcOmMyQAAADB0RVh0QXV0aG9yAE1hdHBsb3RsaWIgdjMuNS4yLCBodHRwczovL21hdHBsb3RsaWIub3Jnwlp4nAAAADJ0RVh0U29mdHdhcmUATWF0cGxvdGxpYiB2My41LjIsIGh0dHBzOi8vbWF0cGxvdGxpYi5vcmfs/Oe7AAAB1ElEQVR4nO3WQU7DMAAAQafP4g08mo+l4dAAoiVtWhWEtDOXyJHtuJjDTi+vb8sYY0zTNMYY43BYn6fHmG6MP+ZPZ+Onrf8818/jwzqezsaX8+8759b8z/GD57p9ziev/6172b1+5+961r389vr/cq8X89cD/pFlPp6ex9NzHL+Pv94vG+/PxvO+ecu638X6rXnz1rmu77c17+u8j53z5vc391023u+cd7Hv9f1239983z3v/v6d++7+/nzn/8+t+9vY7/H7e2zf3d//+LuuDgMAyBEAABAkAAAgSAAAQJAAAIAgAQAAQQIAAIIEAAAECQAACBIAABAkAAAgSAAAQJAAAIAgAQAAQQIAAIIEAAAECQAACBIAABAkAAAgSAAAQJAAAIAgAQAAQQIAAIIEAAAECQAACBIAABAkAAAgSAAAQJAAAIAgAQAAQQIAAIIEAAAECQAACBIAABAkAAAgSAAAQJAAAIAgAQAAQQIAAIIEAAAECQAACBIAABAkAAAgSAAAQJAAAIAgAQAAQQIAAIIEAAAECQAACBIAABAkAAAgSAAAQJAAAIAgAQAAQQIAAIIEAAAECQAACBIAABAkAAAgSAAAQJAAAIAgAQAAQQIAAILeAeuPPmrsVf4RAAAAAElFTkSuQmCC\"></div><div style=\"vertical-align: middle; max-width: 514px; display: flex; justify-content: space-between;\"><div style=\"float: left;\"><div title=\"#3b4cc0ff\" style=\"display: inline-block; width: 1em; height: 1em; margin: 0; vertical-align: middle; border: 1px solid #555; background-color: #3b4cc0ff;\"></div> under</div><div style=\"margin: 0 auto; display: inline-block;\">bad <div title=\"#00000000\" style=\"display: inline-block; width: 1em; height: 1em; margin: 0; vertical-align: middle; border: 1px solid #555; background-color: #00000000;\"></div></div><div style=\"float: right;\">over <div title=\"#b40426ff\" style=\"display: inline-block; width: 1em; height: 1em; margin: 0; vertical-align: middle; border: 1px solid #555; background-color: #b40426ff;\"></div></div>"
      ],
      "text/plain": [
       "<matplotlib.colors.LinearSegmentedColormap at 0x7fd9dc7831c0>"
      ]
     },
     "execution_count": 8,
     "metadata": {},
     "output_type": "execute_result"
    }
   ],
   "source": [
    "# modified_colormap('coolwarm', 'white', 0.4, 0.4)\n",
    "modified_colormap('coolwarm', 'white', 0.05, 1.0)"
   ]
  },
  {
   "cell_type": "code",
   "execution_count": null,
   "id": "543ff37c-4d24-4ca3-ac5a-7bc63fb1d249",
   "metadata": {},
   "outputs": [],
   "source": []
  }
 ],
 "metadata": {
  "kernelspec": {
   "display_name": "Python 3 (ipykernel)",
   "language": "python",
   "name": "python3"
  },
  "language_info": {
   "codemirror_mode": {
    "name": "ipython",
    "version": 3
   },
   "file_extension": ".py",
   "mimetype": "text/x-python",
   "name": "python",
   "nbconvert_exporter": "python",
   "pygments_lexer": "ipython3",
   "version": "3.9.2"
  }
 },
 "nbformat": 4,
 "nbformat_minor": 5
}
