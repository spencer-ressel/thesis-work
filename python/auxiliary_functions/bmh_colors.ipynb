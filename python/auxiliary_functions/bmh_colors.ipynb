{
 "cells": [
  {
   "cell_type": "code",
   "execution_count": 2,
   "id": "cb86674b-4f50-42fd-a0dc-34692b0b0cb3",
   "metadata": {
    "tags": []
   },
   "outputs": [],
   "source": [
    "def bmh_colors(color_name):\n",
    "    ''' \n",
    "    This function returns hexcodes corresponding to specific colors in the 'bmh' style sheet.\n",
    "    Color hexcodes can be specified by either name or number in order of the 'bmh' style sheet\n",
    "    The style sheet can be found here: https://viscid-hub.github.io/Viscid-docs/docs/dev/styles/bmh.html\n",
    "    \n",
    "    '''\n",
    "    \n",
    "    colors = {}\n",
    "    \n",
    "    # Specify colors by name\n",
    "    colors['blue'] = '#348ABD'\n",
    "    colors['red'] = '#A60628'\n",
    "    colors['purple'] = '#7A68A6'\n",
    "    colors['green'] = '#467821'\n",
    "    colors['orange'] = '#D55E00'\n",
    "    colors['pink'] = '#CC79A7'\n",
    "    colors['lightblue'] = '#56B4E9'\n",
    "    colors['lightgreen'] = '#009E73'\n",
    "    colors['yellow'] = '#F0E442'\n",
    "    colors['darkblue'] = '#0072B2'\n",
    "    colors['edgecolor'] = '#bcbcbc'\n",
    "    colors['facecolor'] = '#eeeeee'\n",
    "    \n",
    "    # Specify colors by number\n",
    "    colors[1] = '#348ABD'\n",
    "    colors[2] = '#A60628'\n",
    "    colors[3] = '#7A68A6'\n",
    "    colors[4] = '#467821'\n",
    "    colors[5] = '#D55E00'\n",
    "    colors[6] = '#CC79A7'\n",
    "    colors[7] = '#56B4E9'\n",
    "    colors[8] = '#009E73'\n",
    "    colors[9] = '#F0E442'\n",
    "    colors[10] = '#0072B2'\n",
    "    colors[11] = '#bcbcbc'\n",
    "    colors[12] = '#eeeeee'\n",
    "    \n",
    "    return colors[color_name]"
   ]
  },
  {
   "cell_type": "code",
   "execution_count": null,
   "id": "24c4c3fa-8a65-4194-9511-a852dfb179ef",
   "metadata": {},
   "outputs": [],
   "source": []
  }
 ],
 "metadata": {
  "kernelspec": {
   "display_name": "Python 3 (ipykernel)",
   "language": "python",
   "name": "python3"
  },
  "language_info": {
   "codemirror_mode": {
    "name": "ipython",
    "version": 3
   },
   "file_extension": ".py",
   "mimetype": "text/x-python",
   "name": "python",
   "nbconvert_exporter": "python",
   "pygments_lexer": "ipython3",
   "version": "3.9.2"
  }
 },
 "nbformat": 4,
 "nbformat_minor": 5
}
