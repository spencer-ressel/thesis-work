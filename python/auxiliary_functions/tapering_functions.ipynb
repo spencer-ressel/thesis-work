{
 "cells": [
  {
   "cell_type": "code",
   "execution_count": 45,
   "id": "902b7544-20d7-44c6-b4c8-de9524723a5f",
   "metadata": {},
   "outputs": [],
   "source": [
    "def taper_meridionally(data, taper_latitude):\n",
    "    import numpy as np\n",
    "    \n",
    "    n_taper = np.shape(np.where(meridional_gridpoints/METERS_PER_DEGREE >= taper_latitude)[0])[0]\n",
    "    taper_edge = np.cos(np.linspace(0, np.pi/2, n_taper))\n",
    "    taper_edge[taper_edge < 1e-2] = 0\n",
    "    taper_center = np.ones((ny-2*n_taper))\n",
    "    taper = np.concatenate((taper_edge[::-1], taper_center, taper_edge))\n",
    "    tapered_data = np.einsum(\n",
    "        'ij,i->ij',\n",
    "        data,\n",
    "        taper\n",
    "    )\n",
    "    return tapered_data\n",
    "\n",
    "def fringe_region_damping_function(latitude_grid, starting_latitude, ending_latitude, damping_width, damping_strength):\n",
    "    \"\"\"\n",
    "    This function generates an array containing damping values as a function of latitude.\n",
    "    \n",
    "    Parameters\n",
    "    ----------\n",
    "    latitude_grid : array_like\n",
    "        An array of grid points with dimensions of degrees latitude\n",
    "    starting_latitude : float\n",
    "        The latitude at which the damping should start, in degrees\n",
    "    ending_latitude : float\n",
    "        The latitude at which the damping should end, in degrees\n",
    "    damping_width : float\n",
    "        The width of the damping region, in degrees\n",
    "    damping_strength : \n",
    "        The maximum value of the damping function\n",
    "    \n",
    "    Returns\n",
    "    -------\n",
    "    fringe_function : array_like\n",
    "        The damping of the fringe region at each latitude\n",
    "    \"\"\"\n",
    "    \n",
    "    import numpy as np\n",
    "\n",
    "    if np.max(np.abs(latitude_grid) > 90):\n",
    "        raise ValueError(\"Latitude grid values must be between -90 and 90\")\n",
    "\n",
    "    ny = len(latitude_grid)\n",
    "    def S(x):\n",
    "        S = np.ones((ny))\n",
    "        S[x<=0] = 0\n",
    "        S[(0<x)*(x<1)] = 1/(1+np.exp(1/(x[(0<x)*(x<1)]-1) + 1/x[(0<x)*(x<1)])) \n",
    "        S[x>=1] = 1\n",
    "        return S\n",
    "\n",
    "    fringe_function = damping_strength*(1 - (\n",
    "        + S((latitude_grid - starting_latitude)/damping_width)\n",
    "        - S(1 + (latitude_grid - ending_latitude)/damping_width)\n",
    "    ))\n",
    "    \n",
    "    return fringe_function"
   ]
  },
  {
   "cell_type": "code",
   "execution_count": null,
   "id": "b656c642-2982-4490-af84-e3120dfbf6b5",
   "metadata": {},
   "outputs": [],
   "source": []
  }
 ],
 "metadata": {
  "kernelspec": {
   "display_name": "Python 3 (ipykernel)",
   "language": "python",
   "name": "python3"
  },
  "language_info": {
   "codemirror_mode": {
    "name": "ipython",
    "version": 3
   },
   "file_extension": ".py",
   "mimetype": "text/x-python",
   "name": "python",
   "nbconvert_exporter": "python",
   "pygments_lexer": "ipython3",
   "version": "3.9.2"
  }
 },
 "nbformat": 4,
 "nbformat_minor": 5
}
