{
 "cells": [
  {
   "cell_type": "code",
   "execution_count": null,
   "id": "438ec19c-7ef5-4e4a-b093-14919a09825a",
   "metadata": {},
   "outputs": [],
   "source": [
    "def tick_labeller(ticks, direction, degree_symbol=True):\n",
    "    import numpy as np\n",
    "    label = []\n",
    "    for i in range(len(ticks)):\n",
    "        if degree_symbol == True:\n",
    "            if direction=='lon':\n",
    "                if ticks[i] == 0 or np.abs(ticks[i]) >= 180: \n",
    "                    label.append(f\"{np.abs(ticks[i]):.0f}°\")\n",
    "                elif ticks[i] < 0:\n",
    "                    label.append(f\"{np.abs(ticks[i]):.0f}°W\")\n",
    "                elif ticks[i] > 0:\n",
    "                    label.append(f\"{np.abs(ticks[i]):.0f}°E\")\n",
    "            elif direction=='lat':\n",
    "                if ticks[i] == 0:\n",
    "                    label.append(f\"{np.abs(ticks[i]):.0f}°\")\n",
    "                elif ticks[i] < 0:\n",
    "                    label.append(f\"{np.abs(ticks[i]):.0f}°S\")\n",
    "                elif ticks[i] > 0:\n",
    "                    label.append(f\"{np.abs(ticks[i]):.0f}°N\")\n",
    "        else:\n",
    "            if direction=='lon':\n",
    "                if ticks[i] == 0 or np.abs(ticks[i]) >= 180: \n",
    "                    label.append(f\"{np.abs(ticks[i]):.0f}\")\n",
    "                elif ticks[i] < 0:\n",
    "                    label.append(f\"{np.abs(ticks[i]):.0f}W\")\n",
    "                elif ticks[i] > 0:\n",
    "                    label.append(f\"{np.abs(ticks[i]):.0f}E\")\n",
    "            elif direction=='lat':\n",
    "                if ticks[i] == 0:\n",
    "                    label.append(f\"{np.abs(ticks[i]):.0f}\")\n",
    "                elif ticks[i] < 0:\n",
    "                    label.append(f\"{np.abs(ticks[i]):.0f}S\")\n",
    "                elif ticks[i] > 0:\n",
    "                    label.append(f\"{np.abs(ticks[i]):.0f}N\")\n",
    "    return label"
   ]
  }
 ],
 "metadata": {
  "kernelspec": {
   "display_name": "Python 3 (ipykernel)",
   "language": "python",
   "name": "python3"
  },
  "language_info": {
   "codemirror_mode": {
    "name": "ipython",
    "version": 3
   },
   "file_extension": ".py",
   "mimetype": "text/x-python",
   "name": "python",
   "nbconvert_exporter": "python",
   "pygments_lexer": "ipython3",
   "version": "3.9.2"
  }
 },
 "nbformat": 4,
 "nbformat_minor": 5
}
