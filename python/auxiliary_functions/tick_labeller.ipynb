{
 "cells": [
  {
   "cell_type": "code",
   "execution_count": 5,
   "id": "438ec19c-7ef5-4e4a-b093-14919a09825a",
   "metadata": {
    "execution": {
     "iopub.execute_input": "2024-07-19T19:36:10.283189Z",
     "iopub.status.busy": "2024-07-19T19:36:10.282559Z",
     "iopub.status.idle": "2024-07-19T19:36:10.298862Z",
     "shell.execute_reply": "2024-07-19T19:36:10.297829Z",
     "shell.execute_reply.started": "2024-07-19T19:36:10.283126Z"
    }
   },
   "outputs": [],
   "source": [
    "def tick_labeller(ticks, direction, degree_symbol=True):\n",
    "    \"\"\"\n",
    "    This function takes in a numpy array of tick locations and formats the list as latitude or longitude points.\n",
    "\n",
    "    # Parameters\n",
    "    ticks (numpy.ndarray) : An array containing the locations of the ticks\n",
    "    direction (str)       : Either 'lat' or 'lon', specifying which coordinate the ticks represent\n",
    "    degree_symbol (bool)  : Default = True, determines whether the tick strings contain the symbol '°'. Should be set to 'False' for\n",
    "                            directory names, file names, etc.\n",
    "\n",
    "    # Returns\n",
    "    labels (list)         : A list of the text string labels of each tick location specified in 'ticks'\n",
    "    \"\"\"\n",
    "\n",
    "    import numpy as np\n",
    "    labels = []\n",
    "    for i in range(len(ticks)):\n",
    "        if direction == 'lon':\n",
    "            normalized_tick = ticks[i] % 360\n",
    "            if normalized_tick == 0 or normalized_tick == 180:\n",
    "                labels.append(f\"{normalized_tick:.0f}{('°' if degree_symbol else '')}\")\n",
    "            elif 0 < normalized_tick < 180:\n",
    "                labels.append(f\"{normalized_tick:.0f}{('°' if degree_symbol else '')}E\")\n",
    "            elif -180 < ticks[i] < 0:\n",
    "                labels.append(f\"{-ticks[i]:.0f}{('°' if degree_symbol else '')}W\")\n",
    "            elif 180 < normalized_tick < 360:\n",
    "                labels.append(f\"{360 - normalized_tick:.0f}{('°' if degree_symbol else '')}W\")\n",
    "            elif -360 < ticks[i] < -180:\n",
    "                labels.append(f\"{360 + ticks[i]:.0f}{('°' if degree_symbol else '')}E\")\n",
    "\n",
    "        elif direction=='lat':\n",
    "            if ticks[i] == 0:\n",
    "                labels.append(f\"{np.abs(ticks[i]):.0f}{('°' if degree_symbol else '')}\")\n",
    "            elif ticks[i] < 0:\n",
    "                labels.append(f\"{np.abs(ticks[i]):.0f}{('°' if degree_symbol else '')}S\")\n",
    "            elif ticks[i] > 0:\n",
    "                labels.append(f\"{np.abs(ticks[i]):.0f}{('°' if degree_symbol else '')}N\")\n",
    "\n",
    "    return labels"
   ]
  },
  {
   "cell_type": "code",
   "execution_count": null,
   "id": "d382c1b3-b52b-46fd-833d-dc207600d2cf",
   "metadata": {},
   "outputs": [],
   "source": []
  }
 ],
 "metadata": {
  "kernelspec": {
   "display_name": "Python 3 (ipykernel)",
   "language": "python",
   "name": "python3"
  },
  "language_info": {
   "codemirror_mode": {
    "name": "ipython",
    "version": 3
   },
   "file_extension": ".py",
   "mimetype": "text/x-python",
   "name": "python",
   "nbconvert_exporter": "python",
   "pygments_lexer": "ipython3",
   "version": "3.10.13"
  }
 },
 "nbformat": 4,
 "nbformat_minor": 5
}
