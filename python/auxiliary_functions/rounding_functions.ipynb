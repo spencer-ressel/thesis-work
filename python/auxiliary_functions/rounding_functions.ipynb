{
 "cells": [
  {
   "cell_type": "code",
   "execution_count": 215,
   "id": "d25750c0-87ab-42df-8e1c-99648311f66e",
   "metadata": {
    "tags": []
   },
   "outputs": [],
   "source": [
    "def round_out(value, order):\n",
    "    import numpy as np\n",
    "    \n",
    "    magnitude_names = {\n",
    "        'thousands'   : -3,\n",
    "        'hundreds'    : -2,\n",
    "        'tens'        : -1,\n",
    "        'ones'        :  0,\n",
    "        'tenths'      :  1,\n",
    "        'hundredths'  :  2,\n",
    "        'thousandths' :  3\n",
    "        \n",
    "    }\n",
    "    \n",
    "    if type(order) == str:\n",
    "        order = magnitude_names[order]\n",
    "    \n",
    "    if value < 0:\n",
    "        rounded_val = -np.around(5/10**(order+1)-(value), order)\n",
    "    elif value > 0:\n",
    "        rounded_val = np.around(5/10**(order+1)+(value), order)\n",
    "    else:\n",
    "        rounded_val = 0\n",
    "        \n",
    "    return rounded_val"
   ]
  },
  {
   "cell_type": "code",
   "execution_count": 1,
   "id": "113cb2f9-d1a0-453d-9de3-0738ee721e66",
   "metadata": {},
   "outputs": [],
   "source": [
    "def round_to_multiple(x, base):\n",
    "    return base * round(x/base)"
   ]
  },
  {
   "cell_type": "code",
   "execution_count": null,
   "id": "ea8a0a63-633a-4efe-8a7e-275b052fc5d5",
   "metadata": {},
   "outputs": [],
   "source": []
  }
 ],
 "metadata": {
  "kernelspec": {
   "display_name": "Python 3 (ipykernel)",
   "language": "python",
   "name": "python3"
  },
  "language_info": {
   "codemirror_mode": {
    "name": "ipython",
    "version": 3
   },
   "file_extension": ".py",
   "mimetype": "text/x-python",
   "name": "python",
   "nbconvert_exporter": "python",
   "pygments_lexer": "ipython3",
   "version": "3.9.2"
  }
 },
 "nbformat": 4,
 "nbformat_minor": 5
}
