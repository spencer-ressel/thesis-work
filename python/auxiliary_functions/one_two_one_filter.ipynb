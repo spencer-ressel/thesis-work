{
 "cells": [
  {
   "cell_type": "markdown",
   "id": "38819022-a1a4-492d-bcda-fc0800c15155",
   "metadata": {},
   "source": [
    "# Documentation\n",
    "**Authors:** Mu-Ting Chien, Spencer Ressel\n",
    "\n",
    "**Created:** 2023.01.17\n",
    "\n",
    "***\n",
    "\n",
    "This script defines a 1-2-1 filter used to smooth 2D space-time data.\n",
    "\n",
    "***\n",
    "\n",
    "**Inputs:**     \n",
    "* A 2D array containing data as a function of time and space, respectively.\n",
    "                \n",
    "**Outputs:**\n",
    "* The smoothed array\n",
    "                \n",
    "**Dependencies:**\n",
    "* None\n",
    "\n",
    "**Figures:**\n",
    "* None"
   ]
  },
  {
   "cell_type": "markdown",
   "id": "47d05a7d-ef2d-4805-a5a7-7af5ff761673",
   "metadata": {},
   "source": [
    "# Imports"
   ]
  },
  {
   "cell_type": "code",
   "execution_count": null,
   "id": "e30035c0-250c-401b-b05b-7d5e80e43f20",
   "metadata": {},
   "outputs": [],
   "source": [
    "import numpy as np"
   ]
  },
  {
   "cell_type": "markdown",
   "id": "e23d5a21-bdd6-4736-8253-782f9093b6c0",
   "metadata": {},
   "source": [
    "# Function"
   ]
  },
  {
   "cell_type": "code",
   "execution_count": 1,
   "id": "6e04e124-88ef-4de1-9aa9-90338cc493ce",
   "metadata": {
    "tags": []
   },
   "outputs": [],
   "source": [
    "def one_two_one_filter(signal, n_smooths, dim):\n",
    "    '''\n",
    "    This is a 1-2-1 filter used to smooth 2D data. The data must be a 2D array\n",
    "    with time as the first dimension and space as the second dimension. \n",
    "\n",
    "    Parameters\n",
    "    ----------\n",
    "    signal : numpy.ndarray\n",
    "        The data to be smoothed.\n",
    "    n_smooths : int\n",
    "        The number of times to perform the smoothing.\n",
    "    dim : string\n",
    "        The dimension in which to smooth, based on the axes of the input array.\n",
    "\n",
    "    Returns\n",
    "    -------\n",
    "    signal : numpy.ndarray\n",
    "        The smoothed data.\n",
    "\n",
    "    '''\n",
    "\n",
    "    # Perform the smoothing k times\n",
    "    for k in range(0,n_smooths):  \n",
    "        \n",
    "        # Time dimension length\n",
    "        segment_length = np.shape(signal)[0]\n",
    "        \n",
    "        # Space dimension length\n",
    "        n_lon = np.shape(signal)[1]                                \n",
    "        \n",
    "        # Loop over the time axis of the data and perform the smoothing\n",
    "        if dim == 'time':\n",
    "            for i in range(1,segment_length-1):\n",
    "                signal[i,:] = 1/4*signal[i-1,:] +\\\n",
    "                                1/2*signal[i,:]   +\\\n",
    "                                1/4*signal[i+1,:] \n",
    "        \n",
    "        # Loop over the space axis of the data and perform the smoothing\n",
    "        elif dim == 'space':\n",
    "            for i in range(1,n_lon-1):\n",
    "                signal[:,i] = 1/4*signal[:,i-1] +\\\n",
    "                                1/2*signal[:,i]   +\\\n",
    "                                1/4*signal[:,i+1]  \n",
    "                                  \n",
    "    return signal"
   ]
  },
  {
   "cell_type": "code",
   "execution_count": null,
   "id": "00f804dd-0e6a-4814-84cf-2db671e672b1",
   "metadata": {},
   "outputs": [],
   "source": []
  }
 ],
 "metadata": {
  "kernelspec": {
   "display_name": "Python 3 (ipykernel)",
   "language": "python",
   "name": "python3"
  },
  "language_info": {
   "codemirror_mode": {
    "name": "ipython",
    "version": 3
   },
   "file_extension": ".py",
   "mimetype": "text/x-python",
   "name": "python",
   "nbconvert_exporter": "python",
   "pygments_lexer": "ipython3",
   "version": "3.10.13"
  }
 },
 "nbformat": 4,
 "nbformat_minor": 5
}
