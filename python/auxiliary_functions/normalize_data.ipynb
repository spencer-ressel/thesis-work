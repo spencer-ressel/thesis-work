{
 "cells": [
  {
   "cell_type": "code",
   "execution_count": 132,
   "id": "89422027-b1a6-4b35-a078-709d45914f6c",
   "metadata": {},
   "outputs": [],
   "source": [
    "def normalize_data(original_array, dim='time'):\n",
    "    import numpy as np\n",
    "    if type(dim) == list:\n",
    "        dim = str(dim)\n",
    "\n",
    "    normalization_axis = {\n",
    "        'time':   (0),\n",
    "        'lat' :   (1),\n",
    "        'lon' :   (2),\n",
    "        'space' : (1,2),\n",
    "        0     :   (0),\n",
    "        1     :   (1),\n",
    "        2     :   (2),\n",
    "        3     :   (3),\n",
    "        3     :   (3),\n",
    "        '[0, 1]' : (0,1),\n",
    "        '[0, 2]' : (0,2),\n",
    "        '[0, 3]' : (0,3),\n",
    "        '[1, 2]' : (1,2),\n",
    "        '[1, 3]' : (1,3),\n",
    "        '[2, 3]' : (2,3),\n",
    "    }\n",
    "    \n",
    "    return ((\n",
    "        original_array - np.mean(\n",
    "            original_array, axis=normalization_axis[dim], keepdims=True\n",
    "        ),\n",
    "    ) / np.std(\n",
    "        original_array, axis=normalization_axis[dim], keepdims=True\n",
    "    ))[0]"
   ]
  },
  {
   "cell_type": "code",
   "execution_count": 145,
   "id": "972fc7b8-fbd5-4003-82bd-0d12bad95701",
   "metadata": {},
   "outputs": [],
   "source": [
    "def normalize_xarray(data_array, dim, reference_array=None):\n",
    "    if type(reference_array) != type(data_array):\n",
    "        reference_array = data_array.copy()\n",
    "    \n",
    "    return (data_array - reference_array.mean(dim=dim))/reference_array.std(dim=dim)"
   ]
  },
  {
   "cell_type": "code",
   "execution_count": null,
   "id": "26baa405-2a8f-43e5-bbe1-598245805f02",
   "metadata": {},
   "outputs": [],
   "source": []
  }
 ],
 "metadata": {
  "kernelspec": {
   "display_name": "Python 3 (ipykernel)",
   "language": "python",
   "name": "python3"
  },
  "language_info": {
   "codemirror_mode": {
    "name": "ipython",
    "version": 3
   },
   "file_extension": ".py",
   "mimetype": "text/x-python",
   "name": "python",
   "nbconvert_exporter": "python",
   "pygments_lexer": "ipython3",
   "version": "3.9.2"
  }
 },
 "nbformat": 4,
 "nbformat_minor": 5
}
