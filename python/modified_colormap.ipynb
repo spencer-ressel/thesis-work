{
 "cells": [
  {
   "cell_type": "code",
   "execution_count": 1,
   "id": "be9422a3-3d6e-4e97-9acc-4b6f0b4df531",
   "metadata": {},
   "outputs": [],
   "source": [
    "def modified_colormap(colormap, central_color, central_width, blend_strength):    \n",
    "    '''\n",
    "    This function modifies a colormap to set the central region to be white. \n",
    "    Within the region specified by the 'width' parameter, the colormap is blended towards white using a linspace.\n",
    "    \n",
    "    Parameters:\n",
    "        colormap (str): The name of an existing matplotlib colormap\n",
    "        central_width (float): The width of the region to be set to white\n",
    "        blend_strength (float): The width of the regions to be blended to white\n",
    "\n",
    "    Returns:\n",
    "        modified_colormap (matplotlib.colors.LinearSegmentedColormap): The modified colormap\n",
    "    \n",
    "    '''\n",
    "    # Import libraries\n",
    "    import numpy as np\n",
    "    import matplotlib.pyplot as plt\n",
    "    from matplotlib import colors as mcolors\n",
    "    \n",
    "    try:\n",
    "        c = mcolors.cnames[central_color]\n",
    "    except: \n",
    "        raise KeyError('Not a matplotlib named color')\n",
    "        \n",
    "    central_color = list(mcolors.to_rgba(central_color))\n",
    "    \n",
    "    # Raise an error if the width is not between 0 and 1\n",
    "    if ((central_width < 0)+(central_width > 1)):\n",
    "        raise ValueError('Central width must be in range [0, 1]')\n",
    "    elif ((blend_strength < 0) + (blend_strength > 1)):\n",
    "        raise ValueError('Blend strength must be in range [0, 1]')\n",
    "    \n",
    "    # Convert the widths to the range [0, 127]\n",
    "    else:             \n",
    "        central_width = int(127*central_width)\n",
    "        blend_strength = int(blend_strength*(127-central_width))\n",
    "\n",
    "    # Get the colormap values\n",
    "    original_colormap = plt.cm.get_cmap(colormap)\n",
    "    newcolors = original_colormap(np.linspace(0, 1, 256))\n",
    "    \n",
    "    # Get the value of the colormap 'width' values left of the center, and blend from that value to white at the center\n",
    "    newcolors[128-central_width-blend_strength:128-central_width, :] = np.linspace(\n",
    "        newcolors[128-central_width-blend_strength, :], \n",
    "        central_color, \n",
    "        blend_strength\n",
    "    )\n",
    "    \n",
    "    newcolors[128-central_width:128+central_width, :] = central_color\n",
    "    \n",
    "    # Get the value of the colormap 'width' values right of the center, and blend from white at the center to that value\n",
    "    newcolors[128+central_width:128+central_width+blend_strength, :] = np.linspace(\n",
    "        central_color,\n",
    "        newcolors[128+central_width+blend_strength, :], \n",
    "        blend_strength\n",
    "    )\n",
    "    \n",
    "    # Create a new colormap object from the modified map\n",
    "    modified_colormap = mcolors.LinearSegmentedColormap.from_list(colormap+'_modified', newcolors)\n",
    "    \n",
    "    return modified_colormap"
   ]
  },
  {
   "cell_type": "code",
   "execution_count": 2,
   "id": "a9abc2aa-de27-4514-850d-62dcaa4555d3",
   "metadata": {},
   "outputs": [
    {
     "data": {
      "text/plain": [
       "<matplotlib.colors.LinearSegmentedColormap at 0x7fb7837b4358>"
      ]
     },
     "execution_count": 2,
     "metadata": {},
     "output_type": "execute_result"
    }
   ],
   "source": [
    "modified_colormap('coolwarm', 'white', 0.4, 0.4)"
   ]
  },
  {
   "cell_type": "code",
   "execution_count": null,
   "id": "c289ac30-5f57-4662-991c-eb96c400eff1",
   "metadata": {},
   "outputs": [],
   "source": []
  }
 ],
 "metadata": {
  "kernelspec": {
   "display_name": "Python 3",
   "language": "python",
   "name": "python3"
  },
  "language_info": {
   "codemirror_mode": {
    "name": "ipython",
    "version": 3
   },
   "file_extension": ".py",
   "mimetype": "text/x-python",
   "name": "python",
   "nbconvert_exporter": "python",
   "pygments_lexer": "ipython3",
   "version": "3.6.8"
  }
 },
 "nbformat": 4,
 "nbformat_minor": 5
}
