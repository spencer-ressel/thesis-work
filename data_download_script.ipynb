{
 "cells": [
  {
   "cell_type": "code",
   "execution_count": 2,
   "id": "98e9ec6c-829b-44c2-9808-539f93cc024c",
   "metadata": {},
   "outputs": [],
   "source": [
    "import os"
   ]
  },
  {
   "cell_type": "markdown",
   "id": "c56c5567-e71a-4fb4-a15a-d4d319efa7b7",
   "metadata": {},
   "source": [
    "## ACCESS-ESM1-5"
   ]
  },
  {
   "cell_type": "code",
   "execution_count": 11,
   "id": "c5cf2ee4-3c58-4272-9e27-778d2c75c46b",
   "metadata": {},
   "outputs": [
    {
     "data": {
      "text/plain": [
       "0"
      ]
     },
     "execution_count": 11,
     "metadata": {},
     "output_type": "execute_result"
    }
   ],
   "source": [
    "os.chdir('/home/disk/tc/pangulo/CMIP6/MRI-ESM2-0/')\n",
    "bashcommand = 'bash file1.sh -s'\n",
    "os.system(bashcommand)\n",
    "\n",
    "bashcommand = 'bash file2.sh -s'\n",
    "os.system(bashcommand)"
   ]
  },
  {
   "cell_type": "markdown",
   "id": "ed978490-1086-4684-865e-973bdd5752b6",
   "metadata": {},
   "source": [
    "## CanESM5\n"
   ]
  },
  {
   "cell_type": "code",
   "execution_count": 14,
   "id": "f41bf3a8-c14b-4473-8a07-1566a27442b4",
   "metadata": {},
   "outputs": [
    {
     "data": {
      "text/plain": [
       "0"
      ]
     },
     "execution_count": 14,
     "metadata": {},
     "output_type": "execute_result"
    }
   ],
   "source": [
    "os.chdir('/home/disk/tc/pangulo/CMIP6/MRI-ESM2-0/')\n",
    "mergecommand = 'cdo mergetime tos_Omon_MRI-ESM2-0_hist-GHG_r1i1p1f1_gn_*.nc tos_Omon_MRI-ESM2-0_hist-GHG_r1i1p1f1_gn_185001-202012.nc'\n",
    "os.system(mergecommand)"
   ]
  },
  {
   "cell_type": "code",
   "execution_count": null,
   "id": "59314c3f-1cc4-42ac-b460-bb32793c89ff",
   "metadata": {},
   "outputs": [],
   "source": []
  }
 ],
 "metadata": {
  "kernelspec": {
   "display_name": "Python 3",
   "language": "python",
   "name": "python3"
  },
  "language_info": {
   "codemirror_mode": {
    "name": "ipython",
    "version": 3
   },
   "file_extension": ".py",
   "mimetype": "text/x-python",
   "name": "python",
   "nbconvert_exporter": "python",
   "pygments_lexer": "ipython3",
   "version": "3.6.8"
  }
 },
 "nbformat": 4,
 "nbformat_minor": 5
}
