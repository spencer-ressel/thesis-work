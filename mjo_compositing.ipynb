{
 "cells": [
  {
   "cell_type": "markdown",
   "id": "6b7ebe63",
   "metadata": {},
   "source": [
    "# Documentation\n",
    "**Spencer Ressel**\n",
    "\n",
    "*2023.01.17*\n",
    "\n",
    "***\n",
    "\n",
    "This script is a compilation of functions that serve to recreate the figures of \n",
    "two papers, Wheeler and Hendon (2004) and Jiang et al. (2020).\n",
    "The Wheeler and Hendon (2004) paper describes the creation of a real-time multivariate\n",
    "MJO index (RMM), and splits the MJO into 8 phases based on the RMM index. \n",
    "The Jiang et al. (2020) paper is a broad overview of the MJO,\n",
    "where the specific figure (Fig. 1) recreated is a composite of MJO-associated rainfall\n",
    "anomalies during boreal winter for each MJO phase.\n",
    "\n",
    "***\n",
    "\n",
    "### Inputs:       \n",
    "#### Global 2.5° x 2.5° resolution, daily timeseries in netCDF format:\n",
    "* precipitation from TRMM\n",
    "* outgoing longwave radiation (OLR) data from Liebmann and Smith (1996)\n",
    "* 200 hPa zonal and meridional wind from ERA5 reanalysis\n",
    "* 850 hPa zonal and meridional wind from ERA5 reanalysis\n",
    "                \n",
    "### Dependencies: \n",
    "* mjo_mean_state_diagnostics.py"
   ]
  },
  {
   "cell_type": "markdown",
   "id": "e89a21f8",
   "metadata": {},
   "source": [
    "# Imports"
   ]
  },
  {
   "cell_type": "code",
   "execution_count": 2,
   "id": "75740a99",
   "metadata": {},
   "outputs": [],
   "source": [
    "# Data processing tools\n",
    "import numpy as np\n",
    "import scipy\n",
    "import scipy.signal as signal\n",
    "import xarray as xr\n",
    "import mjo_mean_state_diagnostics as mjo\n",
    "\n",
    "# Plotting\n",
    "import matplotlib.ticker as mticker\n",
    "import matplotlib.pyplot as plt\n",
    "import matplotlib.colors as colors\n",
    "from matplotlib.gridspec import GridSpec\n",
    "\n",
    "# Seaborn\n",
    "import seaborn as sns\n",
    "\n",
    "# # Cartopy\n",
    "# import cartopy.crs as ccrs\n",
    "# import cartopy.util as cutil\n",
    "# from cartopy.mpl.ticker import LongitudeFormatter, LatitudeFormatter"
   ]
  },
  {
   "cell_type": "markdown",
   "id": "b5aeaa55",
   "metadata": {
    "tags": []
   },
   "source": [
    "# Set Physical Constants and Analysis Parameters"
   ]
  },
  {
   "cell_type": "code",
   "execution_count": 165,
   "id": "8878fdfb",
   "metadata": {},
   "outputs": [],
   "source": [
    "# Set time bounds\n",
    "TIME_MIN = '1998-01-01T00:00:00.000000000'\n",
    "TIME_MAX = '2018-12-31T00:00:00.000000000'\n",
    "SAMPLING_FREQUENCY = 1\n",
    "\n",
    "# Set latitude bounds\n",
    "LATITUDE_SOUTH = -25\n",
    "LATITUDE_NORTH = 25\n",
    "\n",
    "# Set central longitude\n",
    "CENTRAL_LONGITUDE = 160\n",
    "\n",
    "# Set longitude bounds\n",
    "LONGITUDE_MIN = -180\n",
    "LONGITUDE_MAX = 180\n",
    "\n",
    "# Cut-off periods for intraseasonal filtering\n",
    "INTRASEASONAL_LOWCUT = 100\n",
    "INTRASEASONAL_HIGHCUT = 20\n",
    "\n",
    "# Seconds per day\n",
    "SECONDS_PER_DAY = 24 * 3600"
   ]
  },
  {
   "cell_type": "markdown",
   "id": "a55af21f",
   "metadata": {},
   "source": [
    "# Load Data"
   ]
  },
  {
   "cell_type": "code",
   "execution_count": 198,
   "id": "5586d34b",
   "metadata": {},
   "outputs": [],
   "source": [
    "# TRMM Precipitation\n",
    "data_directory_precip = r\"/home/disk/eos7/sressel/Research/Data/NASA/TRMM/\"\n",
    "file_name_precip = r\"trmm_precipitation_daily_1998_2018.nc\"\n",
    "data_precipitation = xr.open_dataset(\n",
    "    data_directory_precip + file_name_precip, engine=\"netcdf4\"\n",
    ")\n",
    "precipitation = data_precipitation['prec']\n",
    "\n",
    "# NASA OLR (Liebmann and Smith 1996)\n",
    "data_directory_olr = r\"/home/disk/eos7/sressel/Research/Data/NOAA/\"\n",
    "file_name_olr = r\"olr.day.mean.nc\"\n",
    "data_olr = xr.open_dataset(data_directory_olr + file_name_olr, engine=\"netcdf4\")\n",
    "outgoing_longwave_radiation = data_olr['olr']\n",
    "\n",
    "# Wind \n",
    "data_directory_wind = r\"/home/disk/eos7/sressel/Research/Data/ECMWF/ERA5/\"\n",
    "file_name_wind = r\"era5_combined_wind_daily_1979_2020_pressure_levels.nc\"\n",
    "wind_data = xr.open_dataset(data_directory_wind + file_name_wind, engine='netcdf4')\n",
    "\n",
    "# Upper and lower level zonal wind\n",
    "upper_level_zonal_wind = wind_data['u'].sel(lev=200)\n",
    "lower_level_zonal_wind = wind_data['u'].sel(lev=850)\n",
    "\n",
    "# Upper and lower level zonal wind\n",
    "upper_level_meridional_wind = wind_data['v'].sel(lev=200)\n",
    "lower_level_meridional_wind = wind_data['v'].sel(lev=850)\n",
    "\n",
    "time = outgoing_longwave_radiation.time\n",
    "latitude = outgoing_longwave_radiation.lat\n",
    "longitude = outgoing_longwave_radiation.lon\n",
    "\n",
    "variables_dict = {\n",
    "    # 'precipitation' : precipitation,\n",
    "    'outgoing longwave radiation' : outgoing_longwave_radiation,\n",
    "    'upper level zonal wind' : upper_level_zonal_wind,\n",
    "    'lower level zonal wind' : lower_level_zonal_wind,\n",
    "    'upper level meridional wind' : upper_level_meridional_wind,\n",
    "    'lower level meridional wind' : lower_level_meridional_wind,\n",
    "}"
   ]
  },
  {
   "cell_type": "markdown",
   "id": "3f29da48-90e6-4fe1-be98-297912d82cc0",
   "metadata": {},
   "source": [
    "# Process Data\n",
    "\n",
    "Detrend the data, remove the annual cycle and the first three harmonics (seasonal cycle), and filter the data on intraseasonal timescales"
   ]
  },
  {
   "cell_type": "markdown",
   "id": "5685f9ba-a03b-4da5-b97f-3a46f7d3ed6a",
   "metadata": {},
   "source": [
    "## Subset Data\n",
    "Specifically select the data from times of interest and from tropical latitudes"
   ]
  },
  {
   "cell_type": "code",
   "execution_count": 199,
   "id": "b12691b4-41d8-4de3-a4d8-3580cb59b31a",
   "metadata": {},
   "outputs": [],
   "source": [
    "variables_subset = {}\n",
    "\n",
    "for variable in variables_dict:\n",
    "    variables_subset[variable] = variables_dict[variable].sel(\n",
    "        time=slice(TIME_MIN, TIME_MAX),\n",
    "        lat=slice(LATITUDE_NORTH, LATITUDE_SOUTH)\n",
    "    )"
   ]
  },
  {
   "cell_type": "markdown",
   "id": "e49185aa-6fe1-4692-9b4f-2b986202da03",
   "metadata": {},
   "source": [
    "## Detrend the data"
   ]
  },
  {
   "cell_type": "code",
   "execution_count": 200,
   "id": "63745972-941b-402b-8a16-9af6ef4e7b15",
   "metadata": {},
   "outputs": [],
   "source": [
    "variables_detrended = {}\n",
    "\n",
    "for variable in variables_dict:\n",
    "    variables_detrended[variable] = variables_subset[variable].copy(deep=True)\n",
    "    variables_detrended[variable].values = signal.detrend(\n",
    "                                               variables_subset[variable], \n",
    "                                               axis=0, \n",
    "                                               type='linear'\n",
    "                                           )"
   ]
  },
  {
   "cell_type": "markdown",
   "id": "93f99a3d-c9a6-4e91-a4b2-596bf080d3b3",
   "metadata": {},
   "source": [
    "## Remove the Annual Cycle"
   ]
  },
  {
   "cell_type": "code",
   "execution_count": 202,
   "id": "e94fed7e-a8f8-4cdb-a32b-557b55f7a584",
   "metadata": {},
   "outputs": [
    {
     "ename": "KeyError",
     "evalue": "'outgoing longwave radiation'",
     "output_type": "error",
     "traceback": [
      "\u001b[0;31m---------------------------------------------------------------------------\u001b[0m",
      "\u001b[0;31mKeyError\u001b[0m                                  Traceback (most recent call last)",
      "\u001b[0;32m<ipython-input-202-e7f393eb4564>\u001b[0m in \u001b[0;36m<module>\u001b[0;34m\u001b[0m\n\u001b[1;32m     12\u001b[0m         \u001b[0mtime\u001b[0m \u001b[0;34m=\u001b[0m \u001b[0mvariables_detrended\u001b[0m\u001b[0;34m[\u001b[0m\u001b[0mvariable\u001b[0m\u001b[0;34m]\u001b[0m\u001b[0;34m.\u001b[0m\u001b[0mtime\u001b[0m\u001b[0;34m.\u001b[0m\u001b[0mvalues\u001b[0m\u001b[0;34m,\u001b[0m\u001b[0;34m\u001b[0m\u001b[0;34m\u001b[0m\u001b[0m\n\u001b[1;32m     13\u001b[0m         \u001b[0mlat\u001b[0m \u001b[0;34m=\u001b[0m  \u001b[0mvariables_detrended\u001b[0m\u001b[0;34m[\u001b[0m\u001b[0mvariable\u001b[0m\u001b[0;34m]\u001b[0m\u001b[0;34m.\u001b[0m\u001b[0mlat\u001b[0m\u001b[0;34m.\u001b[0m\u001b[0mvalues\u001b[0m\u001b[0;34m,\u001b[0m\u001b[0;34m\u001b[0m\u001b[0;34m\u001b[0m\u001b[0m\n\u001b[0;32m---> 14\u001b[0;31m         \u001b[0mlon\u001b[0m \u001b[0;34m=\u001b[0m  \u001b[0mvariables_detrended\u001b[0m\u001b[0;34m[\u001b[0m\u001b[0mvariable\u001b[0m\u001b[0;34m]\u001b[0m\u001b[0;34m.\u001b[0m\u001b[0mlon\u001b[0m\u001b[0;34m.\u001b[0m\u001b[0mvalues\u001b[0m\u001b[0;34m\u001b[0m\u001b[0;34m\u001b[0m\u001b[0m\n\u001b[0m\u001b[1;32m     15\u001b[0m     )    \n",
      "\u001b[0;31mKeyError\u001b[0m: 'outgoing longwave radiation'"
     ]
    }
   ],
   "source": [
    "variables_deannualized = {}\n",
    "variables_annual_cycle = {}\n",
    "\n",
    "for variable in variables_dict:\n",
    "    variables_deannualized[variable] = variables_detrended[variable].copy(deep=True)\n",
    "    \n",
    "    [           \n",
    "        variables_deannualized[variable].values,\n",
    "        variables_annual_cycle[variable].values,\n",
    "    ] = mjo.remove_annual_cycle_matrix(\n",
    "        variables_detrended[variable], \n",
    "        time = variables_detrended[variable].time.values,\n",
    "        lat =  variables_detrended[variable].lat.values,\n",
    "        lon =  variables_detrended[variable].lon.values\n",
    "    )    "
   ]
  },
  {
   "cell_type": "markdown",
   "id": "5be3a690-91c6-4cd8-af4b-59a77b947567",
   "metadata": {},
   "source": [
    "## Filter Data \n",
    "\n",
    "Temporally filter the data on intraseasonal (20-100 day) timescales, using a Lanczos filter"
   ]
  }
 ],
 "metadata": {
  "kernelspec": {
   "display_name": "Python 3",
   "language": "python",
   "name": "python3"
  },
  "language_info": {
   "codemirror_mode": {
    "name": "ipython",
    "version": 3
   },
   "file_extension": ".py",
   "mimetype": "text/x-python",
   "name": "python",
   "nbconvert_exporter": "python",
   "pygments_lexer": "ipython3",
   "version": "3.6.8"
  },
  "toc-autonumbering": false,
  "toc-showcode": false,
  "toc-showmarkdowntxt": false
 },
 "nbformat": 4,
 "nbformat_minor": 5
}
