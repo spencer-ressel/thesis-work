{
 "cells": [
  {
   "cell_type": "markdown",
   "id": "6b7ebe63",
   "metadata": {},
   "source": [
    "# mjo_compositing.ipynb\n",
    "## Spencer Ressel\n",
    "## 2023.01.17\n",
    "\n",
    "***\n",
    "\n",
    "This script is a compilation of functions that serve to recreate the figures of \n",
    "two papers, Wheeler and Hendon (2004) and Jiang et al. (2020).\n",
    "The Wheeler and Hendon (2004) paper describes the creation of a real-time multivariate\n",
    "MJO index (RMM), and splits the MJO into 8 phases based on the RMM index. \n",
    "The Jiang et al. (2020) paper is a broad overview of the MJO,\n",
    "where the specific figure (Fig. 1) recreated is a composite of MJO-associated rainfall\n",
    "anomalies during boreal winter for each MJO phase\n",
    "\n",
    "***\n",
    "\n",
    "### Inputs:       \n",
    "#### Global 2.5° x 2.5° resolution, daily timeseries in netCDF format:\n",
    "* precipitation from TRMM\n",
    "* outgoing longwave radiation (OLR) data from Liebmann and Smith (1996)\n",
    "* 850 hPa zonal wind from ERA5 reanalysis\n",
    "* 200 hPa zonal wind from ERA5 reanalysis\n",
    "                  \n",
    "### Dependencies: \n",
    "* mjo_mean_state_diagnostics.py"
   ]
  },
  {
   "cell_type": "markdown",
   "id": "e89a21f8",
   "metadata": {},
   "source": [
    "## Imports"
   ]
  },
  {
   "cell_type": "code",
   "execution_count": 36,
   "id": "75740a99",
   "metadata": {},
   "outputs": [],
   "source": [
    "# Data processing tools\n",
    "import numpy as np\n",
    "import scipy\n",
    "import scipy.signal as signal\n",
    "import xarray as xr\n",
    "import mjo_mean_state_diagnostics as mjo\n",
    "\n",
    "# Plotting\n",
    "import matplotlib.ticker as mticker\n",
    "import matplotlib.pyplot as plt\n",
    "import matplotlib.colors as colors\n",
    "from matplotlib.gridspec import GridSpec\n",
    "\n",
    "# Seaborn\n",
    "import seaborn as sns\n",
    "\n",
    "# # Cartopy\n",
    "# import cartopy.crs as ccrs\n",
    "# import cartopy.util as cutil\n",
    "# from cartopy.mpl.ticker import LongitudeFormatter, LatitudeFormatter"
   ]
  },
  {
   "cell_type": "markdown",
   "id": "b5aeaa55",
   "metadata": {},
   "source": [
    "## Constants"
   ]
  },
  {
   "cell_type": "code",
   "execution_count": 37,
   "id": "8878fdfb",
   "metadata": {},
   "outputs": [],
   "source": [
    "# Set time bounds\n",
    "TIME_MIN = 19990101\n",
    "TIME_MAX = 20181231\n",
    "SAMPLING_FREQUENCY = 1\n",
    "\n",
    "# Set latitude bounds\n",
    "LAT_MIN = -25\n",
    "LAT_MAX = 25\n",
    "\n",
    "# Set central longitude\n",
    "CENTRAL_LONGITUDE = 160\n",
    "\n",
    "# Set longitude bounds\n",
    "LON_MIN = -180\n",
    "LON_MAX = 180\n",
    "\n",
    "# Cut-off periods for intraseasonal filtering\n",
    "INTRASEASONAL_LOWCUT = 100\n",
    "INTRASEASONAL_HIGHCUT = 20\n",
    "\n",
    "# Seconds per day\n",
    "SECONDS_PER_DAY = 24 * 3600"
   ]
  },
  {
   "cell_type": "markdown",
   "id": "a55af21f",
   "metadata": {},
   "source": [
    "## Load Data"
   ]
  },
  {
   "cell_type": "markdown",
   "id": "e41eb844",
   "metadata": {},
   "source": [
    "### Precipitation"
   ]
  },
  {
   "cell_type": "code",
   "execution_count": 38,
   "id": "5586d34b",
   "metadata": {},
   "outputs": [],
   "source": [
    "data_directory_precip = r\"/home/disk/eos7/sressel/research/data/trmm/\"\n",
    "file_name_precip = r\"data_trmm_daily_2018.nc\"\n",
    "data_precipitation = xr.open_dataset(\n",
    "    data_directory_precip + file_name_precip, engine=\"netcdf4\"\n",
    ")\n",
    "data_precipitation = data_precipitation.rename(\n",
    "    {\"lat\": \"latitude\", \"lon\": \"longitude\", \"prec\": \"precipitation\"}\n",
    ")\n",
    "\n",
    "# Assign precipitation data to variables\n",
    "precipitation = data_precipitation[\"precipitation\"]\n",
    "time = data_precipitation[\"time\"]\n",
    "latitude = data_precipitation[\"latitude\"]\n",
    "longitude = data_precipitation[\"longitude\"]\n"
   ]
  },
  {
   "cell_type": "markdown",
   "id": "17638b4a",
   "metadata": {},
   "source": [
    "### OLR Data"
   ]
  },
  {
   "cell_type": "code",
   "execution_count": 39,
   "id": "ec2feb64",
   "metadata": {},
   "outputs": [],
   "source": [
    "data_directory_olr = r\"/home/disk/eos7/sressel/research/data/noaa_olr/\"\n",
    "file_name_olr = r\"olr.day.mean.nc\"\n",
    "data_olr = xr.open_dataset(data_directory_olr + file_name_olr, engine=\"netcdf4\")\n",
    "data_olr = data_olr.rename({\"lat\": \"latitude\", \"lon\": \"longitude\"})\n",
    "\n",
    "# Assign OLR data to variables\n",
    "olr = data_olr[\"olr\"].isel(latitude=slice(None, None, -1))\n",
    "\n",
    "# Convert OLR time units from datetime64 to YYYYMMDD\n",
    "olr[\"time\"] = mjo.datetime64_to_yyyymmdd(olr[\"time\"].values)\n",
    "olr[\"time\"].attrs[\"units\"] = \"YYYYMMDD\"\n",
    "olr[\"time\"].attrs[\"long_name\"] = \"time\"\n",
    "\n",
    "# Assign OLR data to variables\n",
    "olr = data_olr[\"olr\"].isel(latitude=slice(None, None, -1))\n",
    "\n",
    "# Convert OLR time units from datetime64 to YYYYMMDD\n",
    "olr[\"time\"] = mjo.datetime64_to_yyyymmdd(olr[\"time\"].values)\n",
    "olr[\"time\"].attrs[\"units\"] = \"YYYYMMDD\"\n",
    "olr[\"time\"].attrs[\"long_name\"] = \"time\"\n"
   ]
  },
  {
   "cell_type": "markdown",
   "id": "0c97e4ce",
   "metadata": {},
   "source": [
    "### Zonal Wind"
   ]
  },
  {
   "cell_type": "code",
   "execution_count": 40,
   "id": "65e0dd98",
   "metadata": {},
   "outputs": [],
   "source": [
    "data_directory_zonal_wind = r\"/home/disk/eos7/sressel/research/data/era5/\"\n",
    "file_name_zonal_wind = r\"daily_2_5_degree_zonal_wind_pressure_levels_1979_2020.nc\"\n",
    "data_zonal_wind = xr.open_dataset(\n",
    "    data_directory_zonal_wind + file_name_zonal_wind, engine=\"netcdf4\"\n",
    ")\n",
    "\n",
    "zonal_wind = data_zonal_wind[\"u\"].isel(latitude=slice(None, None, -1))\n",
    "zonal_wind[\"time\"] = mjo.datetime64_to_yyyymmdd(zonal_wind[\"time\"].values)\n",
    "zonal_wind_longitudes = zonal_wind[\"longitude\"].values\n",
    "zonal_wind_longitudes[zonal_wind_longitudes < 0] = (\n",
    "    zonal_wind_longitudes[zonal_wind_longitudes < 0] + 360\n",
    ")\n",
    "zonal_wind[\"longitude\"] = zonal_wind_longitudes\n",
    "zonal_wind = zonal_wind.sortby(zonal_wind.longitude)\n",
    "\n",
    "upper_level_zonal_wind = zonal_wind.sel(level=200)\n",
    "lower_level_zonal_wind = zonal_wind.sel(level=850)\n"
   ]
  },
  {
   "cell_type": "markdown",
   "id": "6fd679fc",
   "metadata": {},
   "source": [
    "### Meridional Wind"
   ]
  },
  {
   "cell_type": "code",
   "execution_count": 41,
   "id": "9d1540e6",
   "metadata": {},
   "outputs": [],
   "source": [
    "data_directory_meridional_wind = r\"/home/disk/eos7/sressel/research/data/era5/\"\n",
    "file_name_meridional_wind = (\n",
    "    r\"daily_2_5_degree_meridional_wind_pressure_levels_1979_2020.nc\"\n",
    ")\n",
    "data_meridional_wind = xr.open_dataset(\n",
    "    data_directory_meridional_wind + file_name_meridional_wind, engine=\"netcdf4\"\n",
    ")\n",
    "\n",
    "meridional_wind = data_meridional_wind[\"v\"].isel(latitude=slice(None, None, -1))\n",
    "meridional_wind[\"time\"] = mjo.datetime64_to_yyyymmdd(meridional_wind[\"time\"].values)\n",
    "meridional_wind_longitudes = meridional_wind[\"longitude\"].values\n",
    "meridional_wind_longitudes[meridional_wind_longitudes < 0] = (\n",
    "    meridional_wind_longitudes[meridional_wind_longitudes < 0] + 360\n",
    ")\n",
    "meridional_wind[\"longitude\"] = meridional_wind_longitudes\n",
    "meridional_wind = meridional_wind.sortby(meridional_wind.longitude)\n",
    "\n",
    "upper_level_meridional_wind = meridional_wind.sel(level=200)\n",
    "lower_level_meridional_wind = meridional_wind.sel(level=850)"
   ]
  },
  {
   "cell_type": "markdown",
   "id": "36081f43",
   "metadata": {},
   "source": [
    "***\n",
    "***"
   ]
  },
  {
   "cell_type": "markdown",
   "id": "5685f9ba-a03b-4da5-b97f-3a46f7d3ed6a",
   "metadata": {},
   "source": [
    "## Subset Data\n",
    "Specifically select the data from times of interest and from tropical latitudes"
   ]
  },
  {
   "cell_type": "markdown",
   "id": "04b017f4-adaf-4743-84fb-4340d3c0b615",
   "metadata": {
    "tags": []
   },
   "source": [
    "### Precipitation"
   ]
  },
  {
   "cell_type": "code",
   "execution_count": 42,
   "id": "4dc4e236-09c3-4d57-a58a-880caf8887ca",
   "metadata": {},
   "outputs": [],
   "source": [
    "tropical_precipitation = precipitation.sel(\n",
    "    time=slice(TIME_MIN, TIME_MAX), latitude=slice(LAT_MIN, LAT_MAX)\n",
    ")"
   ]
  },
  {
   "cell_type": "markdown",
   "id": "de3ca4b5-7390-4d1d-8d5d-fa4b90cdc188",
   "metadata": {},
   "source": [
    "### OLR"
   ]
  },
  {
   "cell_type": "code",
   "execution_count": 43,
   "id": "5a0eeb27",
   "metadata": {},
   "outputs": [],
   "source": [
    "tropical_olr = olr.sel(\n",
    "    time=slice(TIME_MIN, TIME_MAX), latitude=slice(LAT_MIN, LAT_MAX),\n",
    ")"
   ]
  },
  {
   "cell_type": "markdown",
   "id": "87ed6f46-dbf1-4e06-b275-529f8d651384",
   "metadata": {},
   "source": [
    "### Zonal Wind\n",
    "\n",
    "#### Lower Level - 850 hPa"
   ]
  },
  {
   "cell_type": "code",
   "execution_count": 44,
   "id": "d17b4f64-6aed-4353-a2bc-5776be7b8a50",
   "metadata": {},
   "outputs": [],
   "source": [
    "tropical_lower_level_zonal_wind = lower_level_zonal_wind.sel(\n",
    "    time=slice(TIME_MIN, TIME_MAX), latitude=slice(LAT_MIN, LAT_MAX),\n",
    ")"
   ]
  },
  {
   "cell_type": "markdown",
   "id": "c51fd2bd-b3b6-4ce2-81b0-1e172199924b",
   "metadata": {},
   "source": [
    "#### Upper Level - 200 hPa"
   ]
  },
  {
   "cell_type": "code",
   "execution_count": 45,
   "id": "b3680eb6-851d-4b84-9e30-b3b980ba162d",
   "metadata": {},
   "outputs": [],
   "source": [
    "tropical_upper_level_zonal_wind = upper_level_zonal_wind.sel(\n",
    "    time=slice(TIME_MIN, TIME_MAX), latitude=slice(LAT_MIN, LAT_MAX),\n",
    ")"
   ]
  },
  {
   "cell_type": "markdown",
   "id": "91c00970-bffc-4cb6-9667-dd51dc52fa3b",
   "metadata": {},
   "source": [
    "### Meridional Wind\n",
    "\n",
    "#### Lower Level"
   ]
  },
  {
   "cell_type": "code",
   "execution_count": 46,
   "id": "f36abeb7-4635-4091-9537-d0980b964d37",
   "metadata": {},
   "outputs": [],
   "source": [
    "tropical_lower_level_meridional_wind = lower_level_meridional_wind.sel(\n",
    "    time=slice(TIME_MIN, TIME_MAX), latitude=slice(LAT_MIN, LAT_MAX),\n",
    ")"
   ]
  },
  {
   "cell_type": "markdown",
   "id": "ca2aeabe-dea2-4638-95bf-925aa8a6950d",
   "metadata": {},
   "source": [
    "#### Upper Level"
   ]
  },
  {
   "cell_type": "code",
   "execution_count": 47,
   "id": "1bfbec69-eec2-47ca-962f-6c83e497c3fe",
   "metadata": {},
   "outputs": [],
   "source": [
    "tropical_upper_level_meridional_wind = upper_level_meridional_wind.sel(\n",
    "    time=slice(TIME_MIN, TIME_MAX), latitude=slice(LAT_MIN, LAT_MAX),\n",
    ")"
   ]
  },
  {
   "cell_type": "markdown",
   "id": "1915430e-e006-426e-b887-292a39c5211b",
   "metadata": {},
   "source": [
    "### Time and Latitude"
   ]
  },
  {
   "cell_type": "code",
   "execution_count": 92,
   "id": "5b762471-2598-4191-b331-32a188890185",
   "metadata": {},
   "outputs": [],
   "source": [
    "# Subset data using a for loop\n",
    "variables_dict = {\"precipitation\":precipitation,\n",
    "                  \"olr\":olr, \n",
    "                  \"lower_level_zonal_wind\":lower_level_zonal_wind, \n",
    "                  \"upper_level_zonal_wind\":upper_level_zonal_wind, \n",
    "                  \"lower_level_meridional_wind\":lower_level_meridional_wind,\n",
    "                  \"upper_level_meridional_wind\":upper_level_meridional_wind}\n",
    "\n",
    "tropically_subset_variables = {}\n",
    "tropical_variable_anomalies = {}\n",
    "tropical_variable_anomalies_detrended = {}\n",
    "intraseasonal_filtered_tropical_variable = {}\n",
    "meridional_mean_intraseasonal_variable = {}\n",
    "\n",
    "for variable in variables_dict:\n",
    "    tropically_subset_variables[variable] = variables_dict[variable].sel(time=slice(TIME_MIN, TIME_MAX), latitude=slice(LAT_MIN, LAT_MAX)\n",
    ")\n",
    "    [tropical_variable_anomalies[variable], _] = mjo.remove_annual_cycle_matrix(tropically_subset_variables[variable], time=time, lat=latitude_tropics, lon=longitude)\n",
    "    \n",
    "    tropical_variable_anomalies_detrended[variable] = signal.detrend(tropical_variable_anomalies[variable], axis=0)\n",
    "    \n",
    "    intraseasonal_filtered_tropical_variable[variable] = mjo.lanczos_bandpass_filter(\n",
    "    tropical_variable_anomalies_detrended[variable],\n",
    "    lowcut=(1 / INTRASEASONAL_LOWCUT),\n",
    "    highcut=(1 / INTRASEASONAL_HIGHCUT),\n",
    "    fs=SAMPLING_FREQUENCY,\n",
    "    filter_axis=0,\n",
    ")\n",
    "    \n",
    "    meridional_mean_intraseasonal_variable[variable] = np.mean(\n",
    "    intraseasonal_filtered_tropical_variable[variable], axis=1\n",
    ")   "
   ]
  },
  {
   "cell_type": "code",
   "execution_count": null,
   "id": "06f83445-6d20-42e2-aac1-c3805e4b4c0f",
   "metadata": {},
   "outputs": [],
   "source": []
  },
  {
   "cell_type": "code",
   "execution_count": 48,
   "id": "f632783f-d2f0-4b38-b0b5-f36ff6552204",
   "metadata": {},
   "outputs": [],
   "source": [
    "# Time\n",
    "time = time.sel(time=slice(TIME_MIN, TIME_MAX))\n",
    "[year, month, day] = mjo.yyyymmdd_y_m_d(time.values)\n",
    "\n",
    "# Latitude\n",
    "latitude_tropics = latitude.sel(latitude=slice(LAT_MIN, LAT_MAX))"
   ]
  },
  {
   "cell_type": "markdown",
   "id": "3f29da48-90e6-4fe1-be98-297912d82cc0",
   "metadata": {},
   "source": [
    "***\n",
    "***\n",
    "\n",
    "## Process Data\n",
    "\n",
    "Remove the annual cycle and the first three harmonics (seasonal cycle)"
   ]
  },
  {
   "cell_type": "markdown",
   "id": "4286b62d-fcec-4f46-b430-9f8f38d00508",
   "metadata": {
    "tags": []
   },
   "source": [
    "### Precipitation"
   ]
  },
  {
   "cell_type": "code",
   "execution_count": 49,
   "id": "922275c6-7e66-43cd-8473-9c175e5a043f",
   "metadata": {},
   "outputs": [],
   "source": [
    "[\n",
    "    tropical_precipitation_anomalies,\n",
    "    tropical_precipitation_cyc,\n",
    "] = mjo.remove_annual_cycle_matrix(\n",
    "    tropical_precipitation, time=time, lat=latitude_tropics, lon=longitude\n",
    ")"
   ]
  },
  {
   "cell_type": "markdown",
   "id": "fd92fe54-2234-49b3-8c79-a18be0147547",
   "metadata": {
    "tags": []
   },
   "source": [
    "### OLR"
   ]
  },
  {
   "cell_type": "code",
   "execution_count": 56,
   "id": "3cced1fe-fecb-488f-967d-d8ade593b901",
   "metadata": {},
   "outputs": [],
   "source": [
    "[\n",
    "    tropical_olr_anomalies, tropical_olr_cyc\n",
    "] = mjo.remove_annual_cycle_matrix(\n",
    "    tropical_olr, time=time, lat=latitude_tropics, lon=longitude\n",
    ")"
   ]
  },
  {
   "cell_type": "markdown",
   "id": "2e6c2c53-fa36-473a-8d3d-884b5da4cf31",
   "metadata": {
    "tags": []
   },
   "source": [
    "### Zonal Wind\n",
    "\n",
    "#### Lower Level"
   ]
  },
  {
   "cell_type": "code",
   "execution_count": 52,
   "id": "3eb1d2b0-6070-4d6a-82ef-0eb1b74fb46f",
   "metadata": {},
   "outputs": [],
   "source": [
    "[\n",
    "    tropical_lower_level_zonal_wind_anomalies,\n",
    "    tropical_olr_cyc,\n",
    "] = mjo.remove_annual_cycle_matrix(\n",
    "    tropical_lower_level_zonal_wind, time=time, lat=latitude_tropics, lon=longitude\n",
    ")"
   ]
  },
  {
   "cell_type": "markdown",
   "id": "236812a6-dfa5-4487-bf92-5b00c26e5a17",
   "metadata": {
    "tags": []
   },
   "source": [
    "#### Upper Level"
   ]
  },
  {
   "cell_type": "code",
   "execution_count": 53,
   "id": "a87939f2-1ad2-472d-8c66-3f65b30ffd54",
   "metadata": {},
   "outputs": [],
   "source": [
    "[\n",
    "    tropical_upper_level_zonal_wind_anomalies,\n",
    "    tropical_olr_cyc,\n",
    "] = mjo.remove_annual_cycle_matrix(\n",
    "    tropical_upper_level_zonal_wind, time=time, lat=latitude_tropics, lon=longitude\n",
    ")"
   ]
  },
  {
   "cell_type": "markdown",
   "id": "4bbeb118-1e4d-4d7d-93e2-6d0a7dc22c1a",
   "metadata": {
    "tags": []
   },
   "source": [
    "### Meridional Wind\n",
    "\n",
    "#### Lower Level"
   ]
  },
  {
   "cell_type": "code",
   "execution_count": 54,
   "id": "2d729797-eb05-49e5-a5d6-3f6636b69cf2",
   "metadata": {},
   "outputs": [],
   "source": [
    "[\n",
    "    tropical_lower_level_meridional_wind_anomalies,\n",
    "    tropical_olr_cyc,\n",
    "] = mjo.remove_annual_cycle_matrix(\n",
    "    tropical_lower_level_meridional_wind, time=time, lat=latitude_tropics, lon=longitude\n",
    ")"
   ]
  },
  {
   "cell_type": "markdown",
   "id": "1ec1da57-e6d2-4942-a28c-ee5ef6341a37",
   "metadata": {
    "tags": []
   },
   "source": [
    "#### Upper Level"
   ]
  },
  {
   "cell_type": "code",
   "execution_count": 55,
   "id": "e6919615",
   "metadata": {},
   "outputs": [],
   "source": [
    "[\n",
    "    tropical_upper_level_meridional_wind_anomalies,\n",
    "    tropical_olr_cyc,\n",
    "] = mjo.remove_annual_cycle_matrix(\n",
    "    tropical_upper_level_meridional_wind, time=time, lat=latitude_tropics, lon=longitude\n",
    ")"
   ]
  },
  {
   "cell_type": "markdown",
   "id": "b4b544fb-b486-43fc-8858-ade6d335b420",
   "metadata": {},
   "source": [
    "## Detrend Data\n",
    "\n",
    "Specifically remove any linear trends in time"
   ]
  },
  {
   "cell_type": "markdown",
   "id": "4d951cfb-1182-4ab5-94f2-88e1a3fd9334",
   "metadata": {
    "tags": []
   },
   "source": [
    "### Precipitation"
   ]
  },
  {
   "cell_type": "code",
   "execution_count": 61,
   "id": "93aedf03-9d02-43f8-b9d3-421e823c4338",
   "metadata": {},
   "outputs": [],
   "source": [
    "tropical_precipitation_anomalies_detrended = signal.detrend(\n",
    "    tropical_precipitation_anomalies, axis=0\n",
    ")"
   ]
  },
  {
   "cell_type": "markdown",
   "id": "c0d43d55-0712-41f6-8a77-51fb392968a8",
   "metadata": {
    "tags": []
   },
   "source": [
    "### OLR"
   ]
  },
  {
   "cell_type": "code",
   "execution_count": 62,
   "id": "221f7d8e-bdbb-447a-b5c6-a6ee2aa7a530",
   "metadata": {},
   "outputs": [],
   "source": [
    "tropical_olr_anomalies_detrended = signal.detrend(tropical_olr_anomalies, axis=0)\n"
   ]
  },
  {
   "cell_type": "markdown",
   "id": "51404ca5-db13-495d-9e33-5dd0dd62681e",
   "metadata": {
    "tags": []
   },
   "source": [
    "### Zonal Wind\n",
    "\n",
    "#### Lower Level"
   ]
  },
  {
   "cell_type": "code",
   "execution_count": 63,
   "id": "e8cc9ea4-d06d-450a-85ff-52e005d3fd2f",
   "metadata": {},
   "outputs": [],
   "source": [
    "tropical_lower_level_zonal_wind_anomalies_detrended = signal.detrend(\n",
    "    tropical_lower_level_zonal_wind_anomalies, axis=0\n",
    ")"
   ]
  },
  {
   "cell_type": "markdown",
   "id": "03e8353b-78ed-439c-9771-8a2bd1cf9068",
   "metadata": {
    "tags": []
   },
   "source": [
    "#### Upper Level"
   ]
  },
  {
   "cell_type": "code",
   "execution_count": 64,
   "id": "0f5843e7-1a56-491d-b3da-28a61c776d66",
   "metadata": {},
   "outputs": [],
   "source": [
    "tropical_upper_level_zonal_wind_anomalies_detrended = signal.detrend(\n",
    "    tropical_upper_level_zonal_wind_anomalies, axis=0\n",
    ")"
   ]
  },
  {
   "cell_type": "markdown",
   "id": "0c3b549e-5da7-47b7-bb10-5fd2b5e5c995",
   "metadata": {
    "tags": []
   },
   "source": [
    "### Meridional Wind\n",
    "\n",
    "#### Lower Level"
   ]
  },
  {
   "cell_type": "code",
   "execution_count": 65,
   "id": "0b39cb13-cbf3-47ba-b321-c5a668aaf0a7",
   "metadata": {},
   "outputs": [],
   "source": [
    "tropical_lower_level_meridional_wind_anomalies_detrended = signal.detrend(\n",
    "    tropical_lower_level_meridional_wind_anomalies, axis=0\n",
    ")"
   ]
  },
  {
   "cell_type": "markdown",
   "id": "d40148c7-7204-40dc-b0b6-6bc4121f2fe1",
   "metadata": {
    "tags": []
   },
   "source": [
    "#### Upper Level"
   ]
  },
  {
   "cell_type": "code",
   "execution_count": 66,
   "id": "e41e94f0-3b61-4a7d-bccb-fcf375b83e49",
   "metadata": {
    "tags": []
   },
   "outputs": [],
   "source": [
    "tropical_upper_level_meridional_wind_anomalies_detrended = signal.detrend(\n",
    "    tropical_upper_level_meridional_wind_anomalies, axis=0\n",
    ")"
   ]
  },
  {
   "cell_type": "markdown",
   "id": "5be3a690-91c6-4cd8-af4b-59a77b947567",
   "metadata": {},
   "source": [
    "## Filter Data \n",
    "\n",
    "Temporally filter the data on intraseasonal (20-100 day) timescales, using a Lanczos filter"
   ]
  },
  {
   "cell_type": "code",
   "execution_count": null,
   "id": "6ab3a2d5-6efd-45e6-adb2-5c2dd5b4a076",
   "metadata": {},
   "outputs": [],
   "source": []
  },
  {
   "cell_type": "code",
   "execution_count": null,
   "id": "5483e11d-80fd-4aa5-b0f7-8ca813a3a4cc",
   "metadata": {},
   "outputs": [],
   "source": []
  },
  {
   "cell_type": "code",
   "execution_count": null,
   "id": "c1e5fe62-78a8-4c9e-aa78-02355ac39780",
   "metadata": {},
   "outputs": [],
   "source": []
  },
  {
   "cell_type": "code",
   "execution_count": null,
   "id": "76ad09aa-c900-4e8f-8a59-6402cb6767dc",
   "metadata": {},
   "outputs": [],
   "source": []
  },
  {
   "cell_type": "code",
   "execution_count": null,
   "id": "de5d78c4-fba0-4ef3-b223-fe1974436cb9",
   "metadata": {},
   "outputs": [],
   "source": []
  },
  {
   "cell_type": "code",
   "execution_count": null,
   "id": "19ecee8a-58c6-47c0-aa22-1e1e40f76432",
   "metadata": {},
   "outputs": [],
   "source": []
  },
  {
   "cell_type": "code",
   "execution_count": null,
   "id": "5aeb0598-132e-4fd4-8e52-1da660378636",
   "metadata": {},
   "outputs": [],
   "source": []
  }
 ],
 "metadata": {
  "kernelspec": {
   "display_name": "Python 3",
   "language": "python",
   "name": "python3"
  },
  "language_info": {
   "codemirror_mode": {
    "name": "ipython",
    "version": 3
   },
   "file_extension": ".py",
   "mimetype": "text/x-python",
   "name": "python",
   "nbconvert_exporter": "python",
   "pygments_lexer": "ipython3",
   "version": "3.6.8"
  },
  "toc-autonumbering": false,
  "toc-showcode": false,
  "toc-showmarkdowntxt": false
 },
 "nbformat": 4,
 "nbformat_minor": 5
}
